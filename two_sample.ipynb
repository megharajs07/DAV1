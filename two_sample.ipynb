{
  "nbformat": 4,
  "nbformat_minor": 0,
  "metadata": {
    "colab": {
      "provenance": [],
      "authorship_tag": "ABX9TyMl2lIoWgJdQQCDD0hQdEJ8",
      "include_colab_link": true
    },
    "kernelspec": {
      "name": "python3",
      "display_name": "Python 3"
    },
    "language_info": {
      "name": "python"
    }
  },
  "cells": [
    {
      "cell_type": "markdown",
      "metadata": {
        "id": "view-in-github",
        "colab_type": "text"
      },
      "source": [
        "<a href=\"https://colab.research.google.com/github/megharajs07/DAV1/blob/main/two_sample.ipynb\" target=\"_parent\"><img src=\"https://colab.research.google.com/assets/colab-badge.svg\" alt=\"Open In Colab\"/></a>"
      ]
    },
    {
      "cell_type": "code",
      "execution_count": null,
      "metadata": {
        "colab": {
          "base_uri": "https://localhost:8080/"
        },
        "id": "IeMOt4eb-4_f",
        "outputId": "3567300c-c76c-4cd6-9d60-6dc10b74e7a0"
      },
      "outputs": [
        {
          "output_type": "execute_result",
          "data": {
            "text/plain": [
              "4"
            ]
          },
          "metadata": {},
          "execution_count": 1
        }
      ],
      "source": [
        "2+2"
      ]
    },
    {
      "cell_type": "code",
      "source": [
        "import random\n",
        "import numpy as np\n",
        "\n",
        "# Set a random seed for reproducibility\n",
        "# Setting random seed to 123 for consistent, deterministic generation of recovery times across groups.\n",
        "random.seed(123) # You can use any integer as the seed\n",
        "\n",
        "# Create an empty list to store the recovery times\n",
        "M1_data =[]\n",
        "\n",
        "# Generate 100 random recovery times\n",
        "# The underscore _ in the loop is a placeholder, signifying indifference to the counter value and solely focusing on executing the code b1\n",
        "\n",
        "for _ in range(100):\n",
        "  recovery_time = random.uniform(5.0, 20.0) # Generating values between 5 & 20\n",
        "  M1_data.append(np.round(recovery_time, 0)) # Rounding recovery time to whole numbers\n",
        "\n",
        "# Print the generated Data\n",
        "print(\"M1_data: \", M1_data)\n",
        "\n",
        "# Create an empty list to store the recovery times\n",
        "M2_data =[]\n",
        "\n",
        "# Generate 100 random recovery times\n",
        "# The underscore _ in the loop is a placeholder, signifying indifference to the counter value and solely focusing on executing the code b1\n",
        "\n",
        "for _ in range(90):\n",
        "  recovery_time = random.uniform(5.0, 30.0) # Generating values between 5 & 30\n",
        "  M2_data.append(np.round(recovery_time, 0)) # Rounding recovery time to whole numbers\n",
        "\n",
        "# Print the generated Data\n",
        "print(\"M2_data: \", M2_data)"
      ],
      "metadata": {
        "colab": {
          "base_uri": "https://localhost:8080/"
        },
        "id": "Srb7w75X-9Np",
        "outputId": "fc761bf7-249c-442f-e8e8-d7291ae21d85"
      },
      "execution_count": null,
      "outputs": [
        {
          "output_type": "stream",
          "name": "stdout",
          "text": [
            "M1_data:  [np.float64(6.0), np.float64(6.0), np.float64(11.0), np.float64(7.0), np.float64(19.0), np.float64(6.0), np.float64(13.0), np.float64(10.0), np.float64(18.0), np.float64(7.0), np.float64(10.0), np.float64(10.0), np.float64(9.0), np.float64(5.0), np.float64(12.0), np.float64(6.0), np.float64(14.0), np.float64(6.0), np.float64(10.0), np.float64(12.0), np.float64(19.0), np.float64(6.0), np.float64(7.0), np.float64(17.0), np.float64(5.0), np.float64(19.0), np.float64(14.0), np.float64(9.0), np.float64(18.0), np.float64(17.0), np.float64(10.0), np.float64(17.0), np.float64(8.0), np.float64(14.0), np.float64(13.0), np.float64(17.0), np.float64(10.0), np.float64(11.0), np.float64(17.0), np.float64(13.0), np.float64(15.0), np.float64(15.0), np.float64(15.0), np.float64(18.0), np.float64(12.0), np.float64(15.0), np.float64(11.0), np.float64(5.0), np.float64(16.0), np.float64(8.0), np.float64(17.0), np.float64(19.0), np.float64(15.0), np.float64(8.0), np.float64(10.0), np.float64(11.0), np.float64(6.0), np.float64(12.0), np.float64(14.0), np.float64(10.0), np.float64(8.0), np.float64(6.0), np.float64(14.0), np.float64(5.0), np.float64(10.0), np.float64(8.0), np.float64(13.0), np.float64(16.0), np.float64(19.0), np.float64(15.0), np.float64(20.0), np.float64(19.0), np.float64(14.0), np.float64(9.0), np.float64(12.0), np.float64(8.0), np.float64(20.0), np.float64(12.0), np.float64(16.0), np.float64(6.0), np.float64(7.0), np.float64(8.0), np.float64(9.0), np.float64(10.0), np.float64(9.0), np.float64(12.0), np.float64(11.0), np.float64(7.0), np.float64(6.0), np.float64(10.0), np.float64(6.0), np.float64(11.0), np.float64(5.0), np.float64(13.0), np.float64(6.0), np.float64(15.0), np.float64(11.0), np.float64(20.0), np.float64(9.0), np.float64(12.0)]\n",
            "M2_data:  [np.float64(24.0), np.float64(13.0), np.float64(14.0), np.float64(21.0), np.float64(29.0), np.float64(27.0), np.float64(15.0), np.float64(23.0), np.float64(22.0), np.float64(14.0), np.float64(11.0), np.float64(7.0), np.float64(27.0), np.float64(6.0), np.float64(18.0), np.float64(18.0), np.float64(9.0), np.float64(21.0), np.float64(28.0), np.float64(24.0), np.float64(15.0), np.float64(8.0), np.float64(29.0), np.float64(18.0), np.float64(21.0), np.float64(25.0), np.float64(15.0), np.float64(7.0), np.float64(8.0), np.float64(22.0), np.float64(14.0), np.float64(27.0), np.float64(24.0), np.float64(30.0), np.float64(22.0), np.float64(13.0), np.float64(25.0), np.float64(6.0), np.float64(18.0), np.float64(27.0), np.float64(18.0), np.float64(8.0), np.float64(18.0), np.float64(19.0), np.float64(14.0), np.float64(27.0), np.float64(14.0), np.float64(12.0), np.float64(18.0), np.float64(10.0), np.float64(13.0), np.float64(15.0), np.float64(28.0), np.float64(7.0), np.float64(10.0), np.float64(10.0), np.float64(30.0), np.float64(27.0), np.float64(10.0), np.float64(19.0), np.float64(7.0), np.float64(13.0), np.float64(14.0), np.float64(18.0), np.float64(28.0), np.float64(25.0), np.float64(18.0), np.float64(25.0), np.float64(17.0), np.float64(23.0), np.float64(24.0), np.float64(11.0), np.float64(26.0), np.float64(19.0), np.float64(17.0), np.float64(15.0), np.float64(11.0), np.float64(18.0), np.float64(8.0), np.float64(21.0), np.float64(27.0), np.float64(25.0), np.float64(20.0), np.float64(17.0), np.float64(22.0), np.float64(8.0), np.float64(6.0), np.float64(27.0), np.float64(14.0), np.float64(22.0)]\n"
          ]
        }
      ]
    },
    {
      "cell_type": "code",
      "source": [
        "# import a library to perform a Z-test\n",
        "from statsmodels.stats import weightstats as stests\n",
        "from scipy import stats"
      ],
      "metadata": {
        "id": "_nmDcyrbBYH_"
      },
      "execution_count": null,
      "outputs": []
    },
    {
      "cell_type": "code",
      "source": [
        "z_score, pval = stests.ztest(x1 = M1_data, x2=M2_data, value = 0, alternative = 'two-sided')"
      ],
      "metadata": {
        "id": "I5YA8k0ABz1S"
      },
      "execution_count": null,
      "outputs": []
    },
    {
      "cell_type": "code",
      "source": [
        "# print the test statistic and corresponding p-val\n",
        "print(\"Z-Score = \", z_score)\n",
        "print(\"P Value = \", pval)"
      ],
      "metadata": {
        "colab": {
          "base_uri": "https://localhost:8080/"
        },
        "id": "hskbcSu3CWUe",
        "outputId": "9a95b394-55c3-4919-9749-9e144edcf0ea"
      },
      "execution_count": null,
      "outputs": [
        {
          "output_type": "stream",
          "name": "stdout",
          "text": [
            "Z-Score =  -7.68917478890992\n",
            "P Value =  1.4808703984296164e-14\n"
          ]
        }
      ]
    },
    {
      "cell_type": "code",
      "source": [
        "alpha = 0.01\n",
        "\n",
        "if pval < alpha:\n",
        "  print(\"Reject the null hypothesis, (i.e, The recovery time of two medicines are different)\")\n",
        "else:\n",
        "  print(\"Fail to reject null hypothesis (i.e, The recovery time of two medicines are same)\")"
      ],
      "metadata": {
        "colab": {
          "base_uri": "https://localhost:8080/"
        },
        "id": "R3AT6jHGClkz",
        "outputId": "ff236cd4-be42-466b-eb1b-de9361dd4628"
      },
      "execution_count": null,
      "outputs": [
        {
          "output_type": "stream",
          "name": "stdout",
          "text": [
            "Reject the null hypothesis, (i.e, The recovery time of two medicines are different)\n"
          ]
        }
      ]
    },
    {
      "cell_type": "code",
      "source": [],
      "metadata": {
        "id": "j-RGKCOIDHkw"
      },
      "execution_count": null,
      "outputs": []
    },
    {
      "cell_type": "code",
      "source": [
        "import numpy as np\n",
        "from scipy import stats\n",
        "\n",
        "# Given Data\n",
        "\n",
        "sample_mean_X = 30 # Average fuel efficiency for Group X (Engine X)\n",
        "sample_mean_Y = 32 # Average fuel efficiency for Group Y (Engine Y)\n",
        "sample_std_X = 3 # SD for Group X\n",
        "sample_std_Y = 2.5 # SD for Group Y\n",
        "significance_level = 0.05\n",
        "sample_size_X = 50 # Sample size for Group X\n",
        "sample_size_Y = 60 # Sample size for Group Y"
      ],
      "metadata": {
        "id": "rri4Rc_C6Iu-"
      },
      "execution_count": null,
      "outputs": []
    },
    {
      "cell_type": "code",
      "source": [
        "# Define the function to calculate the test statistic and corresponding p-value\n",
        "def TwoSamp2Test (samp_mean_1, samp_mean_2, samp_std_1, samp_std_2, n1, n2):\n",
        "  # Calculate the test statistic\n",
        "  denominator = np.sqrt((samp_std_1**2 / n1) + (samp_std_2**2/n2))\n",
        "  z_score = (samp_mean_1 - samp_mean_2) / denominator\n",
        "  return z_score"
      ],
      "metadata": {
        "id": "O3WYZaBA6Ipi"
      },
      "execution_count": null,
      "outputs": []
    },
    {
      "cell_type": "code",
      "source": [
        "z_score = TwoSamp2Test(sample_mean_X, sample_mean_Y, sample_std_X, sample_std_Y, sample_size_X, sample_size_Y)\n",
        "\n",
        "z_score"
      ],
      "metadata": {
        "colab": {
          "base_uri": "https://localhost:8080/"
        },
        "id": "qYIMFOAdyC_U",
        "outputId": "9130c0ff-aa25-41d9-dee3-1b8869593b29"
      },
      "execution_count": null,
      "outputs": [
        {
          "output_type": "execute_result",
          "data": {
            "text/plain": [
              "np.float64(-3.751832396884334)"
            ]
          },
          "metadata": {},
          "execution_count": 3
        }
      ]
    },
    {
      "cell_type": "code",
      "source": [
        "stats.norm.cdf(z_score)"
      ],
      "metadata": {
        "colab": {
          "base_uri": "https://localhost:8080/"
        },
        "id": "yDYGNwSDyYkK",
        "outputId": "595e7b57-dd09-49df-85eb-25a2dc5fcbdb"
      },
      "execution_count": null,
      "outputs": [
        {
          "output_type": "execute_result",
          "data": {
            "text/plain": [
              "np.float64(8.777340507285842e-05)"
            ]
          },
          "metadata": {},
          "execution_count": 4
        }
      ]
    },
    {
      "cell_type": "code",
      "source": [
        "1 - stats.norm.cdf(abs(z_score))"
      ],
      "metadata": {
        "colab": {
          "base_uri": "https://localhost:8080/"
        },
        "id": "bNYgbIB34nG9",
        "outputId": "65d74574-cb73-4d23-cf04-0c8e10e3a433"
      },
      "execution_count": null,
      "outputs": [
        {
          "output_type": "execute_result",
          "data": {
            "text/plain": [
              "np.float64(8.777340507282183e-05)"
            ]
          },
          "metadata": {},
          "execution_count": 5
        }
      ]
    },
    {
      "cell_type": "code",
      "source": [
        "p_value = stats.norm.cdf(z_score)*2\n",
        "p_value"
      ],
      "metadata": {
        "colab": {
          "base_uri": "https://localhost:8080/"
        },
        "id": "DCTiKXNW4wNU",
        "outputId": "4bdc0a36-c533-4f63-88c6-d12b1921ee48"
      },
      "execution_count": null,
      "outputs": [
        {
          "output_type": "execute_result",
          "data": {
            "text/plain": [
              "np.float64(0.00017554681014571685)"
            ]
          },
          "metadata": {},
          "execution_count": 8
        }
      ]
    },
    {
      "cell_type": "code",
      "source": [
        "if p_value < significance_level:\n",
        "  conclusion = \"Reject the null hypothesis, Engine Y is more fuel efficient\"\n",
        "else:\n",
        "  conclusion = \"Fail to reject null hypothesis, No significant difference in fuel efficiency\"\n",
        "\n",
        "print(f'z-score: {z_score: .4f}')\n",
        "print(f'p-value: {p_value: .4f}')\n",
        "print('Conclusion: ', conclusion)"
      ],
      "metadata": {
        "colab": {
          "base_uri": "https://localhost:8080/"
        },
        "id": "CjZKPn4U44uh",
        "outputId": "b6c59915-86fa-43ca-8c20-579681dd009d"
      },
      "execution_count": null,
      "outputs": [
        {
          "output_type": "stream",
          "name": "stdout",
          "text": [
            "z-score: -3.7518\n",
            "p-value:  0.0002\n",
            "Conclusion:  Reject the null hypothesis, Engine Y is more fuel efficient\n"
          ]
        }
      ]
    },
    {
      "cell_type": "code",
      "source": [
        "# Define the function to calculate the test statistic and corresponding p-value\n",
        "def TwoSamp2Test (samp_mean_1, samp_mean_2, samp_std_1, samp_std_2, n1, n2):\n",
        "  # Calculate the test statistic\n",
        "  denominator = np.sqrt((samp_std_1**2 / n1) + (samp_std_2**2/n2))\n",
        "  z_score = (samp_mean_1 - samp_mean_2) / denominator\n",
        "  return z_score\n",
        "\n",
        "# Calculate the z-score using the function\n",
        "z_score = TwoSamp2Test(sample_mean_X, sample_mean_Y, sample_std_X, sample_std_Y, sample_size_X, sample_size_Y)\n",
        "\n",
        "# Calculate the two - tailed p-value\n",
        "p_value = 2 * (1 - stats.norm.cdf(abs(z_score)))\n",
        "\n",
        "# Compare the p-value to the significance Level\n",
        "if p_value < significance_level:\n",
        "  conclusion = \"Reject the null hypothesis, Engine Y is more fuel efficient\"\n",
        "else:\n",
        "  conclusion = \"Fail to reject null hypothesis, No significant difference in fuel efficiency\"\n",
        "\n",
        "print(f'z-score: {z_score: .4f}')\n",
        "print(f'p-value: {p_value: .4f}')\n",
        "print('Conclusion: ', conclusion)"
      ],
      "metadata": {
        "colab": {
          "base_uri": "https://localhost:8080/"
        },
        "id": "iiQnSiPE6AnP",
        "outputId": "ea501239-0b64-4247-a9bc-fcf9af607eb8"
      },
      "execution_count": null,
      "outputs": [
        {
          "output_type": "stream",
          "name": "stdout",
          "text": [
            "z-score: -3.7518\n",
            "p-value:  0.0002\n",
            "Conclusion:  Reject the null hypothesis, Engine Y is more fuel efficient\n"
          ]
        }
      ]
    },
    {
      "cell_type": "code",
      "source": [
        "X = [162, 164, 168, 170, 174, 176, 180, 182, 186, 188, 192, 194, 198, 200, 204, 206, 210, 212, 216, 218, 222, 224, 228, 230, 234, 236, 240, 242, 246, 248, 252, 254, 258, 260, 264, 266, 270]\n",
        "\n",
        "Y = [158, 162, 166, 170, 174, 178, 182, 186, 190, 194, 198, 202, 206, 210, 214, 218, 222, 226, 230, 234, 238, 242, 246, 250, 254, 258, 262, 266, 270, 274, 278, 282, 286, 290, 294, 298, 302]\n",
        "\n",
        "significance_level = 0.1\n",
        "\n",
        "z_score, p_value = stests.ztest(X, Y, value = 0, alternative = 'two-sided')\n",
        "\n",
        "# Print the z-statistic and p-value\n",
        "print(\"z-statistic value = \", z_score)\n",
        "print(\"P-Value = \", p_value)\n",
        "\n",
        "# Decision\n",
        "if p_value < np.significance_level:\n",
        "  print(\"Reject the Null Hypothesis, There is a statistically significant difference in the average heights of plants grown with fertilizer X\")\n",
        "else:\n",
        "  print(\"Failed to Reject the Null Hypothesis, There is no statistically significant difference in the average heights of plants grown with fertilizer X\")\n"
      ],
      "metadata": {
        "colab": {
          "base_uri": "https://localhost:8080/",
          "height": 211
        },
        "id": "8kit74gr8LPC",
        "outputId": "3be1b2cf-263f-4385-df54-88cf5f9bd41b"
      },
      "execution_count": null,
      "outputs": [
        {
          "output_type": "error",
          "ename": "NameError",
          "evalue": "name 'stests' is not defined",
          "traceback": [
            "\u001b[0;31m---------------------------------------------------------------------------\u001b[0m",
            "\u001b[0;31mNameError\u001b[0m                                 Traceback (most recent call last)",
            "\u001b[0;32m<ipython-input-16-d91864f5d602>\u001b[0m in \u001b[0;36m<cell line: 0>\u001b[0;34m()\u001b[0m\n\u001b[1;32m      5\u001b[0m \u001b[0msignificance_level\u001b[0m \u001b[0;34m=\u001b[0m \u001b[0;36m0.1\u001b[0m\u001b[0;34m\u001b[0m\u001b[0;34m\u001b[0m\u001b[0m\n\u001b[1;32m      6\u001b[0m \u001b[0;34m\u001b[0m\u001b[0m\n\u001b[0;32m----> 7\u001b[0;31m \u001b[0mz_score\u001b[0m\u001b[0;34m,\u001b[0m \u001b[0mp_value\u001b[0m \u001b[0;34m=\u001b[0m \u001b[0mstests\u001b[0m\u001b[0;34m.\u001b[0m\u001b[0mztest\u001b[0m\u001b[0;34m(\u001b[0m\u001b[0mX\u001b[0m\u001b[0;34m,\u001b[0m \u001b[0mY\u001b[0m\u001b[0;34m,\u001b[0m \u001b[0mvalue\u001b[0m \u001b[0;34m=\u001b[0m \u001b[0;36m0\u001b[0m\u001b[0;34m,\u001b[0m \u001b[0malternative\u001b[0m \u001b[0;34m=\u001b[0m \u001b[0;34m'two-sided'\u001b[0m\u001b[0;34m)\u001b[0m\u001b[0;34m\u001b[0m\u001b[0;34m\u001b[0m\u001b[0m\n\u001b[0m\u001b[1;32m      8\u001b[0m \u001b[0;34m\u001b[0m\u001b[0m\n\u001b[1;32m      9\u001b[0m \u001b[0;31m# Print the z-statistic and p-value\u001b[0m\u001b[0;34m\u001b[0m\u001b[0;34m\u001b[0m\u001b[0m\n",
            "\u001b[0;31mNameError\u001b[0m: name 'stests' is not defined"
          ]
        }
      ]
    },
    {
      "cell_type": "code",
      "source": [
        "sample_mean_X = 2.87\n",
        "sample_std_X = 1.08\n",
        "sample_size_X = 150\n",
        "\n",
        "sample_mean_Y = 2.56\n",
        "sample_std_Y = 1.28\n",
        "sample_size_Y = 200\n",
        "significance_level = 0.01\n",
        "\n",
        "# Calculate the z-score using the function\n",
        "z_score = TwoSamp2Test(sample_mean_X, sample_mean_Y, sample_std_X, sample_std_Y, sample_size_X, sample_size_Y)\n",
        "\n",
        "# Calculate the two - tailed p-value\n",
        "p_value = 2 * (1 - stats.norm.cdf(abs(z_score)))\n",
        "\n",
        "# Compare the p-value to the significance Level\n",
        "if p_value < significance_level:\n",
        "  conclusion = \"Reject the null hypothesis, Engine Y is more fuel efficient\"\n",
        "else:\n",
        "  conclusion = \"Fail to reject null hypothesis, No significant difference in fuel efficiency\"\n",
        "\n",
        "print(f'z-score: {z_score: .4f}')\n",
        "print(f'p-value: {p_value: .4f}')\n",
        "print('Conclusion: ', conclusion)"
      ],
      "metadata": {
        "id": "kJbDLvzo-Z3T",
        "colab": {
          "base_uri": "https://localhost:8080/"
        },
        "outputId": "84ff53b3-82a9-4d54-c749-676194084768"
      },
      "execution_count": null,
      "outputs": [
        {
          "output_type": "stream",
          "name": "stdout",
          "text": [
            "z-score:  2.4532\n",
            "p-value:  0.0142\n",
            "Conclusion:  Fail to reject null hypothesis, No significant difference in fuel efficiency\n"
          ]
        }
      ]
    },
    {
      "cell_type": "code",
      "source": [
        "import scipy.stats as stats\n",
        "import math\n",
        "\n",
        "# Given values\n",
        "mu = 100          # Population mean\n",
        "sigma = 15        # Population std dev\n",
        "n = 50            # Sample size\n",
        "x_bar = 110       # Sample mean\n",
        "alpha = 0.05      # Significance level\n",
        "\n",
        "# Calculate z-score\n",
        "z = (x_bar - mu) / (sigma / math.sqrt(n))\n",
        "\n",
        "# Calculate p-value for one-tailed test (right tail)\n",
        "p_value = 1 - stats.norm.cdf(z)\n",
        "\n",
        "# Print results\n",
        "print(f\"Z-score: {z:.2f}\")\n",
        "print(f\"P-value: {p_value:.4f}\")\n",
        "\n",
        "# Conclusion\n",
        "if p_value < alpha:\n",
        "    print(\"Reject the null hypothesis: The institute's claim is supported.\")\n",
        "else:\n",
        "    print(\"Fail to reject the null hypothesis: Not enough evidence to support the institute's claim.\")\n"
      ],
      "metadata": {
        "id": "v-G_CVoLeJho"
      },
      "execution_count": null,
      "outputs": []
    }
  ]
}